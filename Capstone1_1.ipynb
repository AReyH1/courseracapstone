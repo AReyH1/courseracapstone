{
  "nbformat": 4,
  "nbformat_minor": 0,
  "metadata": {
    "colab": {
      "name": "Capstone1.1.ipynb",
      "provenance": [],
      "authorship_tag": "ABX9TyOyjdLS3tHp3j487sMYTsg1",
      "include_colab_link": true
    },
    "kernelspec": {
      "name": "python3",
      "display_name": "Python 3"
    }
  },
  "cells": [
    {
      "cell_type": "markdown",
      "metadata": {
        "id": "view-in-github",
        "colab_type": "text"
      },
      "source": [
        "<a href=\"https://colab.research.google.com/github/AReyH1/courseracapstone/blob/main/Capstone1_1.ipynb\" target=\"_parent\"><img src=\"https://colab.research.google.com/assets/colab-badge.svg\" alt=\"Open In Colab\"/></a>"
      ]
    },
    {
      "cell_type": "markdown",
      "metadata": {
        "id": "PQqLkkPte6_3"
      },
      "source": [
        "## **The Real Estate Company**\n",
        "\n",
        "We want to create a location for our real estate company somewhere in Scarborough, so we want to get all the information possible to be as efficient as possible in locating.\n",
        "\n",
        "\n",
        "Canada is a very prosperous country willing to receive people from all around the glove, and because of this it is always a great idea to be dynamically looking for the best place to move in to.\n",
        "\n",
        "We, the company, aim to find the most populous neighborhoods using clusters so we strategically find the best location for our company.\n",
        "\n",
        "** The company is not real. It was created to serve the purpose for this Capstone Project**"
      ]
    },
    {
      "cell_type": "markdown",
      "metadata": {
        "id": "E-et4bEoe7E0"
      },
      "source": [
        "## **Location Decision**\n",
        "\n",
        "We decided to analyize Scarborough for two reasons, we are very familiar with this dataset from previous weeks in the course, and because Scarborough is naturally a very diverse location, both religiously and culturally. These kinds of location are very popular for new immigrants to move in to.\n",
        "\n"
      ]
    },
    {
      "cell_type": "markdown",
      "metadata": {
        "id": "xGaJy58ce7HL"
      },
      "source": [
        "## **Challenge**\n",
        "\n",
        "This project's puprose is to find the best neighborhoods in the city for the company to move in to, so it's more accessible to new customers looking to move to Scarborough. This is done using Wikipedia data on postal codes, so we then use the Foursquare API to find the coordinates in order to cluster the neighborhoods."
      ]
    },
    {
      "cell_type": "markdown",
      "metadata": {
        "id": "kFj72luPmnjN"
      },
      "source": [
        "## **API**\n",
        "\n",
        "We will be using the Foursquare API to find the coordinates (latitude, longitude) in order to cluster the neighborhoods, using the K-Means algorithm found in the Scikit Learn library."
      ]
    },
    {
      "cell_type": "markdown",
      "metadata": {
        "id": "g3FiyX0UmnhA"
      },
      "source": [
        "## **Libraries**\n",
        "\n",
        "\n",
        "\n",
        "*   Pandas\n",
        "\n",
        "*   Numpy\n",
        "\n",
        "*   Folium\n",
        "*   Scikit Learn\n",
        "\n",
        "\n",
        "*   Matplotlib\n",
        "\n",
        "\n",
        "*   Geocoder\n",
        "\n"
      ]
    }
  ]
}