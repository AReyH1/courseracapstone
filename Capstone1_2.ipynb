{
  "nbformat": 4,
  "nbformat_minor": 0,
  "metadata": {
    "colab": {
      "name": "Capstone1.2.ipynb",
      "provenance": [],
      "authorship_tag": "ABX9TyOruhvXu33KytfTazgMiEMK",
      "include_colab_link": true
    },
    "kernelspec": {
      "name": "python3",
      "display_name": "Python 3"
    }
  },
  "cells": [
    {
      "cell_type": "markdown",
      "metadata": {
        "id": "view-in-github",
        "colab_type": "text"
      },
      "source": [
        "<a href=\"https://colab.research.google.com/github/AReyH1/courseracapstone/blob/main/Capstone1_2.ipynb\" target=\"_parent\"><img src=\"https://colab.research.google.com/assets/colab-badge.svg\" alt=\"Open In Colab\"/></a>"
      ]
    },
    {
      "cell_type": "markdown",
      "metadata": {
        "id": "CB9UwlWroamx"
      },
      "source": [
        "## **Data Description**\n",
        "\n",
        "For this project, we will ne using the Scarborough dataset found in Wikipedia. We have previously used this dataset in prior weeks, so we are familiar with it. \n",
        "\n",
        "Dataset: https://en.wikipedia.org/wiki/List_of_postal_codes_of_Canada:_M\n",
        "\n",
        "\n",
        "\n",
        "We will use the Foursquare API in order to find the coordinates for the postal codes. This will also give us the information regarding venue names, locations and menus for local restaurants.\n",
        "\n",
        "Foursquare is a social networking service available for common smartphones. The app's purpose is to help you discover and share information about businesses and attractions around you.\n",
        "\n",
        "After finding the list of potential neighborhoods, we then connect to the Foursquare API to get the information about venues inside each and every neighborhood. "
      ]
    },
    {
      "cell_type": "code",
      "metadata": {
        "id": "4BnErgMNqURy"
      },
      "source": [
        ""
      ],
      "execution_count": null,
      "outputs": []
    }
  ]
}